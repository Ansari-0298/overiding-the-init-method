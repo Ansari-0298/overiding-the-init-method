{
 "cells": [
  {
   "cell_type": "code",
   "execution_count": 1,
   "id": "ca7ebaa3",
   "metadata": {},
   "outputs": [],
   "source": [
    "#over-riding init method"
   ]
  },
  {
   "cell_type": "code",
   "execution_count": 29,
   "id": "4fdeed5a",
   "metadata": {},
   "outputs": [],
   "source": [
    "class vehicle():\n",
    "    def __init__ (self,mileage,cost):\n",
    "        self.mileage=mileage\n",
    "        self.cost=cost\n",
    "    def show_vehicle_details(self):\n",
    "        print(\"mileage of the vehicle\",self.mileage)\n",
    "        print(\"cost of the vehicle\",self.cost)\n",
    "        print(\"i am a vehicle\")"
   ]
  },
  {
   "cell_type": "code",
   "execution_count": 30,
   "id": "4772b5ba",
   "metadata": {},
   "outputs": [],
   "source": [
    "v1 = vehicle(200,250000)"
   ]
  },
  {
   "cell_type": "code",
   "execution_count": 31,
   "id": "abf3488e",
   "metadata": {},
   "outputs": [],
   "source": [
    "class car(vehicle):\n",
    "    def __init__(self,mileage,cost,tyres,hp):\n",
    "        super().__init__(mileage,cost)\n",
    "        self.tyres = tyres\n",
    "        self.hp = hp\n",
    "    def show_car_details(self):\n",
    "        print(\"tyres in vehicle\",self.tyres)\n",
    "        print(\"hp in vehicles\",self.hp)\n",
    "        print(\"i am a car\")"
   ]
  },
  {
   "cell_type": "code",
   "execution_count": 32,
   "id": "728fa846",
   "metadata": {},
   "outputs": [],
   "source": [
    "c1=car(200,25000,4,555)"
   ]
  },
  {
   "cell_type": "code",
   "execution_count": 33,
   "id": "83fdc3fd",
   "metadata": {},
   "outputs": [
    {
     "name": "stdout",
     "output_type": "stream",
     "text": [
      "tyres in vehicle 4\n",
      "hp in vehicles 555\n",
      "i am a car\n"
     ]
    }
   ],
   "source": [
    "c1.show_car_details()"
   ]
  },
  {
   "cell_type": "code",
   "execution_count": 34,
   "id": "6e3eb418",
   "metadata": {},
   "outputs": [
    {
     "name": "stdout",
     "output_type": "stream",
     "text": [
      "mileage of the vehicle 200\n",
      "cost of the vehicle 25000\n",
      "i am a vehicle\n"
     ]
    }
   ],
   "source": [
    "c1.show_vehicle_details()"
   ]
  },
  {
   "cell_type": "code",
   "execution_count": 21,
   "id": "b5c6f193",
   "metadata": {},
   "outputs": [],
   "source": [
    "class vehicle():\n",
    "    def __init__ (self,mileage,cost):\n",
    "        self.mileage=mileage\n",
    "        self.cost=cost\n",
    "    \n",
    "    def show_vehicle_details(self):\n",
    "        print(\"mileage of vehicle\",self.mileage)\n",
    "        print(\"cost of the vehicle\",self.cost)\n",
    "        print(\"i am a vehicle\")\n",
    "        \n",
    "        c1=vehicle(500,300000)\n"
   ]
  },
  {
   "cell_type": "code",
   "execution_count": 23,
   "id": "d8f2e5a9",
   "metadata": {},
   "outputs": [],
   "source": [
    "class car(vehicle):\n",
    "    def __init__(self,mileage,cost,tyres,hp):\n",
    "        super().__init__(mileage,cost)\n",
    "        self.tyres=tyres\n",
    "        self.hp=hp\n",
    "    \n",
    "    def show_car_details(self):\n",
    "        print(\"tyres in the vehicle\",self.tyres)\n",
    "        print(\"hp of the vehicle\",self.hp)\n",
    "        print(\"i am a car\")"
   ]
  },
  {
   "cell_type": "code",
   "execution_count": 24,
   "id": "4f688c91",
   "metadata": {},
   "outputs": [],
   "source": [
    "c1=car(500,300000,6,96)"
   ]
  },
  {
   "cell_type": "code",
   "execution_count": 25,
   "id": "a58bcd31",
   "metadata": {},
   "outputs": [
    {
     "name": "stdout",
     "output_type": "stream",
     "text": [
      "tyres in the vehicle 6\n",
      "hp of the vehicle 96\n",
      "i am a car\n"
     ]
    }
   ],
   "source": [
    "c1.show_car_details()"
   ]
  },
  {
   "cell_type": "code",
   "execution_count": 26,
   "id": "f2587e1a",
   "metadata": {},
   "outputs": [
    {
     "name": "stdout",
     "output_type": "stream",
     "text": [
      "mileage of vehicle 500\n",
      "cost of the vehicle 300000\n",
      "i am a vehicle\n"
     ]
    }
   ],
   "source": [
    "c1.show_vehicle_details()"
   ]
  },
  {
   "cell_type": "code",
   "execution_count": 14,
   "id": "8ec19de9",
   "metadata": {},
   "outputs": [],
   "source": [
    "class laptop():\n",
    "    def __init__(self,color,price,processor):\n",
    "        self.color=color\n",
    "        self.price=price\n",
    "        self.processor=processor\n",
    "    def show_laptop_details(self):\n",
    "        print(\"i am a machine\")\n",
    "        print(\"color of the machine\",self.color)\n",
    "        print(\"price of the machine\",self.price)\n",
    "        print(\"processor of the machine\",self.processor)\n",
    "\n",
    "        l1=laptop(\"black\",75000,\"core i5\")"
   ]
  },
  {
   "cell_type": "code",
   "execution_count": 9,
   "id": "ae6b897a",
   "metadata": {},
   "outputs": [
    {
     "ename": "NameError",
     "evalue": "name 'laptop' is not defined",
     "output_type": "error",
     "traceback": [
      "\u001b[1;31m---------------------------------------------------------------------------\u001b[0m",
      "\u001b[1;31mNameError\u001b[0m                                 Traceback (most recent call last)",
      "\u001b[1;32m<ipython-input-9-4b65a56c97c0>\u001b[0m in \u001b[0;36m<module>\u001b[1;34m\u001b[0m\n\u001b[1;32m----> 1\u001b[1;33m \u001b[1;32mclass\u001b[0m \u001b[0mdell\u001b[0m\u001b[1;33m(\u001b[0m\u001b[0mlaptop\u001b[0m\u001b[1;33m)\u001b[0m\u001b[1;33m:\u001b[0m\u001b[1;33m\u001b[0m\u001b[1;33m\u001b[0m\u001b[0m\n\u001b[0m\u001b[0;32m      2\u001b[0m     \u001b[1;32mdef\u001b[0m \u001b[0m__init__\u001b[0m\u001b[1;33m(\u001b[0m\u001b[0mself\u001b[0m\u001b[1;33m,\u001b[0m\u001b[0mcolor\u001b[0m\u001b[1;33m,\u001b[0m\u001b[0mprice\u001b[0m\u001b[1;33m,\u001b[0m\u001b[0mprocessor\u001b[0m\u001b[1;33m,\u001b[0m\u001b[0mgeneration\u001b[0m\u001b[1;33m,\u001b[0m\u001b[0mram\u001b[0m\u001b[1;33m,\u001b[0m\u001b[0mssd\u001b[0m\u001b[1;33m)\u001b[0m\u001b[1;33m:\u001b[0m\u001b[1;33m\u001b[0m\u001b[1;33m\u001b[0m\u001b[0m\n\u001b[0;32m      3\u001b[0m         \u001b[0msuper\u001b[0m\u001b[1;33m(\u001b[0m\u001b[1;33m)\u001b[0m\u001b[1;33m.\u001b[0m\u001b[0m__init__\u001b[0m\u001b[1;33m(\u001b[0m\u001b[0mself\u001b[0m\u001b[1;33m,\u001b[0m\u001b[0mcolor\u001b[0m\u001b[1;33m,\u001b[0m\u001b[0mprice\u001b[0m\u001b[1;33m,\u001b[0m\u001b[0mprocessor\u001b[0m\u001b[1;33m)\u001b[0m\u001b[1;33m\u001b[0m\u001b[1;33m\u001b[0m\u001b[0m\n\u001b[0;32m      4\u001b[0m         \u001b[0mself\u001b[0m\u001b[1;33m.\u001b[0m\u001b[0mgeneration\u001b[0m\u001b[1;33m=\u001b[0m\u001b[0mgeneration\u001b[0m\u001b[1;33m\u001b[0m\u001b[1;33m\u001b[0m\u001b[0m\n\u001b[0;32m      5\u001b[0m         \u001b[0mself\u001b[0m\u001b[1;33m.\u001b[0m\u001b[0mram\u001b[0m\u001b[1;33m=\u001b[0m\u001b[0mram\u001b[0m\u001b[1;33m\u001b[0m\u001b[1;33m\u001b[0m\u001b[0m\n",
      "\u001b[1;31mNameError\u001b[0m: name 'laptop' is not defined"
     ]
    }
   ],
   "source": [
    "class dell(laptop):\n",
    "    def __init__(self,color,price,processor,generation,ram,ssd):\n",
    "        super().__init__(self,color,price,processor)\n",
    "        self.generation=generation\n",
    "        self.ram=ram\n",
    "        self.ssd=ssd\n",
    "    def show_dell_details(self):\n",
    "        print(\"i am the dell\")\n",
    "        print(\"generation of the laptop\",self.generation)\n",
    "        print(\"ram of the laptop\",self.ram)\n",
    "        print(\"ssd of the laptop\",self.ssd)"
   ]
  },
  {
   "cell_type": "code",
   "execution_count": 12,
   "id": "0f93eb10",
   "metadata": {},
   "outputs": [
    {
     "data": {
      "text/plain": [
       "(24, 23)"
      ]
     },
     "execution_count": 12,
     "metadata": {},
     "output_type": "execute_result"
    }
   ],
   "source": [
    "a=24\n",
    "b=23\n",
    "a,b"
   ]
  },
  {
   "cell_type": "code",
   "execution_count": 13,
   "id": "cb7c8963",
   "metadata": {},
   "outputs": [
    {
     "data": {
      "text/plain": [
       "int"
      ]
     },
     "execution_count": 13,
     "metadata": {},
     "output_type": "execute_result"
    }
   ],
   "source": [
    "type(a)"
   ]
  },
  {
   "cell_type": "code",
   "execution_count": 14,
   "id": "122bf195",
   "metadata": {},
   "outputs": [],
   "source": [
    "print=\"hello world\""
   ]
  },
  {
   "cell_type": "code",
   "execution_count": 17,
   "id": "1b33c4cf",
   "metadata": {},
   "outputs": [
    {
     "ename": "TypeError",
     "evalue": "'str' object is not callable",
     "output_type": "error",
     "traceback": [
      "\u001b[1;31m---------------------------------------------------------------------------\u001b[0m",
      "\u001b[1;31mTypeError\u001b[0m                                 Traceback (most recent call last)",
      "\u001b[1;32m<ipython-input-17-4eac21d428ef>\u001b[0m in \u001b[0;36m<module>\u001b[1;34m\u001b[0m\n\u001b[0;32m      4\u001b[0m     \u001b[0mprint\u001b[0m\u001b[1;33m(\u001b[0m\u001b[1;34m\"a is greater than b\"\u001b[0m\u001b[1;33m)\u001b[0m\u001b[1;33m\u001b[0m\u001b[1;33m\u001b[0m\u001b[0m\n\u001b[0;32m      5\u001b[0m \u001b[1;32melse\u001b[0m\u001b[1;33m:\u001b[0m\u001b[1;33m\u001b[0m\u001b[1;33m\u001b[0m\u001b[0m\n\u001b[1;32m----> 6\u001b[1;33m     \u001b[0mprint\u001b[0m\u001b[1;33m(\u001b[0m\u001b[1;34m\"b is greater than a\"\u001b[0m\u001b[1;33m)\u001b[0m\u001b[1;33m\u001b[0m\u001b[1;33m\u001b[0m\u001b[0m\n\u001b[0m",
      "\u001b[1;31mTypeError\u001b[0m: 'str' object is not callable"
     ]
    }
   ],
   "source": [
    "a=50\n",
    "b=70\n",
    "if a>=b:\n",
    "    print(\"a is greater than b\")\n",
    "else:\n",
    "    print(\"b is greater than a\")"
   ]
  },
  {
   "cell_type": "code",
   "execution_count": null,
   "id": "44cb2354",
   "metadata": {},
   "outputs": [],
   "source": []
  }
 ],
 "metadata": {
  "kernelspec": {
   "display_name": "Python 3",
   "language": "python",
   "name": "python3"
  },
  "language_info": {
   "codemirror_mode": {
    "name": "ipython",
    "version": 3
   },
   "file_extension": ".py",
   "mimetype": "text/x-python",
   "name": "python",
   "nbconvert_exporter": "python",
   "pygments_lexer": "ipython3",
   "version": "3.8.8"
  }
 },
 "nbformat": 4,
 "nbformat_minor": 5
}
